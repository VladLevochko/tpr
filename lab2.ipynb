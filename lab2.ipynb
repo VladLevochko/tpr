{
 "cells": [
  {
   "cell_type": "markdown",
   "metadata": {
    "collapsed": false
   },
   "source": [
    "Теорія прийняття рішень\n",
    "\n",
    "Лабораторна робота №2 \"Прийняття рішень в умовах ризику\"\n",
    "\n",
    "Мета роботи:\n",
    "Ознайомитись з методами прийняття рішень в умовах, коли вибір деякої стратегії пов’язаний з певним набором станів середовища з визначеною ймовірністю."
   ]
  },
  {
   "cell_type": "markdown",
   "metadata": {},
   "source": [
    "Розглянемо знаходження оптимальної стратегії на прикладі наступної задачі: необхідно визначити оптимальну стратегію з вибору одягу для подорожі за умови, що Ви відбуваєте та повинні повернутись у вказане місце.\n",
    "Набори одягу, які можна взяти із собою, складаються з: верхнього одягу, головного убору, брюк, взуття та рукавиць, причому кожен набір одягу є оптимальним для деякого діапазону температур. Час, який Ви будете перебувати в іншому місці, Вам невідомий, бо все залежить від обставин, тому Вам необхідно визначитись з набором одягу заздалегідь. А уніформа, в якій Ви перебуваєте на час відправлення, до кінця поїздки вже зноситься."
   ]
  },
  {
   "cell_type": "code",
   "execution_count": 70,
   "metadata": {
    "collapsed": false
   },
   "outputs": [
    {
     "name": "stdout",
     "output_type": "stream",
     "text": [
      "month  1\n\nstrategy 0\n48+4=52\nПальто, Джинси, \n\nstrategy 1\n0+0=0\n\n\nstrategy 2\n78+8=86\nПальто, Рукавички, Чоботи, Шапка, \n\nstrategy 3\n78+8=86\nПальто, Рукавички, Чоботи, Шапка, \n\nstrategy 4\n78+8=86\nПальто, Рукавички, Чоботи, Шапка, \n\nstrategy 5\n90+10=100\nДжинси, Пальто, Рукавички, Чоботи, Шапка, \n--------------------------------------------------------------------------------\nmonth  2\n\nstrategy 0\n48+4=52\nПальто, Джинси, \n\nstrategy 1\n0+0=0\n\n\nstrategy 2\n78+8=86\nПальто, Рукавички, Чоботи, Шапка, \n\nstrategy 3\n78+8=86\nПальто, Рукавички, Чоботи, Шапка, \n\nstrategy 4\n78+8=86\nПальто, Рукавички, Чоботи, Шапка, \n\nstrategy 5\n90+10=100\nДжинси, Пальто, Рукавички, Чоботи, Шапка, \n--------------------------------------------------------------------------------\nmonth  3\n\nstrategy 0\n48+4=52\nПальто, Джинси, \n\nstrategy 1\n0+0=0\n\n\nstrategy 2\n78+8=86\nПальто, Рукавички, Чоботи, Шапка, \n\nstrategy 3\n78+8=86\nПальто, Рукавички, Чоботи, Шапка, \n\nstrategy 4\n78+8=86\nПальто, Рукавички, Чоботи, Шапка, \n\nstrategy 5\n90+10=100\nДжинси, Пальто, Рукавички, Чоботи, Шапка, \n--------------------------------------------------------------------------------\nmonth  4\n\nstrategy 0\n60+8=68\nКепка, Джинси, Черевики, Куртка, \n\nstrategy 1\n48+6=54\nКепка, Черевики, Куртка, \n\nstrategy 2\n0+0=0\n\n\nstrategy 3\n48+6=54\nКепка, Черевики, Куртка, \n\nstrategy 4\n48+6=54\nКепка, Черевики, Куртка, \n\nstrategy 5\n60+8=68\nКепка, Джинси, Черевики, Куртка, \n--------------------------------------------------------------------------------\nmonth  5\n\nstrategy 0\n36+6=42\nСветр, Джинси, Кросівки, \n\nstrategy 1\n24+4=28\nСветр, Кросівки, \n\nstrategy 2\n24+4=28\nСветр, Кросівки, \n\nstrategy 3\n0+0=0\n\n\nstrategy 4\n12+2=14\nСветр, \n\nstrategy 5\n36+6=42\nСветр, Джинси, Кросівки, \n--------------------------------------------------------------------------------\nmonth  6\n\nstrategy 0\n36+6=42\nСветр, Джинси, Кросівки, \n\nstrategy 1\n24+4=28\nСветр, Кросівки, \n\nstrategy 2\n24+4=28\nСветр, Кросівки, \n\nstrategy 3\n0+0=0\n\n\nstrategy 4\n12+2=14\nСветр, \n\nstrategy 5\n36+6=42\nСветр, Джинси, Кросівки, \n--------------------------------------------------------------------------------\nmonth  7\n\nstrategy 0\n36+8=44\nБлайзер, Сорочка, Джинси, Кросівки, \n\nstrategy 1\n24+6=30\nБлайзер, Сорочка, Кросівки, \n\nstrategy 2\n24+6=30\nБлайзер, Сорочка, Кросівки, \n\nstrategy 3\n12+4=16\nБлайзер, Сорочка, \n\nstrategy 4\n0+0=0\n\n\nstrategy 5\n30+6=36\nСорочка, Джинси, Кросівки, \n--------------------------------------------------------------------------------\nmonth  8\n\nstrategy 0\n36+8=44\nБлайзер, Сорочка, Джинси, Кросівки, \n\nstrategy 1\n24+6=30\nБлайзер, Сорочка, Кросівки, \n\nstrategy 2\n24+6=30\nБлайзер, Сорочка, Кросівки, \n\nstrategy 3\n12+4=16\nБлайзер, Сорочка, \n\nstrategy 4\n0+0=0\n\n\nstrategy 5\n30+6=36\nСорочка, Джинси, Кросівки, \n--------------------------------------------------------------------------------\nmonth  9\n\nstrategy 0\n36+6=42\nСветр, Джинси, Кросівки, \n\nstrategy 1\n24+4=28\nСветр, Кросівки, \n\nstrategy 2\n24+4=28\nСветр, Кросівки, \n\nstrategy 3\n0+0=0\n\n\nstrategy 4\n12+2=14\nСветр, \n\nstrategy 5\n36+6=42\nСветр, Джинси, Кросівки, \n--------------------------------------------------------------------------------\nmonth  10\n\nstrategy 0\n36+6=42\nСветр, Джинси, Кросівки, \n\nstrategy 1\n24+4=28\nСветр, Кросівки, \n\nstrategy 2\n24+4=28\nСветр, Кросівки, \n\nstrategy 3\n0+0=0\n\n\nstrategy 4\n12+2=14\nСветр, \n\nstrategy 5\n36+6=42\nСветр, Джинси, Кросівки, \n--------------------------------------------------------------------------------\nmonth  11\n\nstrategy 0\n60+8=68\nКепка, Джинси, Черевики, Куртка, \n\nstrategy 1\n48+6=54\nКепка, Черевики, Куртка, \n\nstrategy 2\n0+0=0\n\n\nstrategy 3\n48+6=54\nКепка, Черевики, Куртка, \n\nstrategy 4\n48+6=54\nКепка, Черевики, Куртка, \n\nstrategy 5\n60+8=68\nКепка, Джинси, Черевики, Куртка, \n--------------------------------------------------------------------------------\nmonth  12\n\nstrategy 0\n48+4=52\nПальто, Джинси, \n\nstrategy 1\n0+0=0\n\n\nstrategy 2\n78+8=86\nПальто, Рукавички, Чоботи, Шапка, \n\nstrategy 3\n78+8=86\nПальто, Рукавички, Чоботи, Шапка, \n\nstrategy 4\n78+8=86\nПальто, Рукавички, Чоботи, Шапка, \n\nstrategy 5\n90+10=100\nДжинси, Пальто, Рукавички, Чоботи, Шапка, \n--------------------------------------------------------------------------------\n"
     ]
    }
   ],
   "source": [
    "from past.builtins import xrange\n",
    "import numpy as np\n",
    "\n",
    "names = {\n",
    "    0: 'Блайзер',\n",
    "    1: 'Бушлат',\n",
    "    2: 'Ватні штани',\n",
    "    3: 'В’єтнамки',\n",
    "    4: 'Джинси',\n",
    "    5: 'Кепка',\n",
    "    6: 'Кросівки',\n",
    "    7: 'Куртка',\n",
    "    8: 'Пальто',\n",
    "    9: 'Рукавички',\n",
    "    10: 'Светр',\n",
    "    11: 'Сорочка',\n",
    "    12: 'Футболка',\n",
    "    13: 'Черевики',\n",
    "    14: 'Чоботи',\n",
    "    15: 'Шапка',\n",
    "    16: 'Шорти'\n",
    "}\n",
    "weights = (0.5, 4, 2, 0.5, 1, 0.5, 1, 2, 3, 0.5, 1, 0.5, 0.5, 1.5, 2, 1, 0.5)\n",
    "prices = (6, 48, 24, 6, 12, 6, 12, 24, 36, 6, 12, 6, 6, 18, 24, 12, 6)\n",
    "\n",
    "sets = (\n",
    "    {15, 1, 9, 2, 14},\n",
    "    {15, 8, 9, 4, 14},\n",
    "    {5, 7, 4, 13},\n",
    "    {10, 4, 6},\n",
    "    {0, 11, 4, 6},\n",
    "    {0, 12, 16, 3}\n",
    ")\n",
    "set_weights = (9.5, 7.5, 5, 3, 3, 2)\n",
    "set_temperatures = (\n",
    "    (-50, -10),\n",
    "    (-9, 0),\n",
    "    (1, 10),\n",
    "    (11, 20),\n",
    "    (21, 30),\n",
    "    (31, 50)\n",
    ")\n",
    "\n",
    "temperatures = (-4, -4, 0, 7, 12, 17, 21, 22, 18, 11, 5, -1)\n",
    "\n",
    "penalty_price = 2\n",
    "transportation_cost = 10\n",
    "\n",
    "\n",
    "def get_appropriate_set(month_index):\n",
    "    month_temperature = temperatures[month_index]\n",
    "    for i in range(len(set_temperatures)):\n",
    "        if set_temperatures[i][0] <= month_temperature <= set_temperatures[i][1]:\n",
    "            return i\n",
    "    return -1\n",
    "\n",
    "\n",
    "def closes_cost(clothes_set):\n",
    "    cost = 0\n",
    "    for item in clothes_set:\n",
    "        cost += prices[item]\n",
    "\n",
    "    return cost\n",
    "\n",
    "\n",
    "def print_closes_in_set(clothes_set):\n",
    "    s = ''\n",
    "    for item in clothes_set:\n",
    "        s += names[item] + ', '\n",
    "    print(s)\n",
    "\n",
    "\n",
    "strategy_costs = np.zeros((6, 12), dtype=float)\n",
    "\n",
    "for month in xrange(12):\n",
    "    print('month ', month + 1)\n",
    "    for j in xrange(6):\n",
    "        print('\\nstrategy {}'.format(j))\n",
    "        sett = sets[j]\n",
    "        appropriate_set = sets[get_appropriate_set(month)]\n",
    "        diff = appropriate_set - sett\n",
    "        diff_cost = closes_cost(diff)\n",
    "        penalty = penalty_price * len(diff)\n",
    "        print('{}+{}={}'.format(diff_cost, penalty, diff_cost + penalty))\n",
    "        print_closes_in_set(diff)\n",
    "        \n",
    "        strategy_costs[j][month] = set_weights[j] * transportation_cost + diff_cost + penalty\n",
    "    print('-' * 80)\n",
    "\n",
    "# print('=' * 80)\n",
    "# for weight in set_weights:\n",
    "#     print(weight * transportation_cost)\n"
   ]
  },
  {
   "cell_type": "markdown",
   "metadata": {},
   "source": [
    "Визначити найкращу стратегію при поверненні протягом одного з 12-ти місяців за умови, що ймовірність повернення в кожен з місяців однакова."
   ]
  },
  {
   "cell_type": "code",
   "execution_count": 78,
   "metadata": {
    "collapsed": true
   },
   "outputs": [
    {
     "name": "stdout",
     "output_type": "stream",
     "text": [
      "strategy 1 costs 145.0\nstrategy 2 costs 98.33333333333331\nstrategy 3 costs 93.0\nstrategy 4 costs 70.33333333333333\nstrategy 5 costs 72.33333333333333\nstrategy 6 costs 84.66666666666666\n\nbest strategy 4 with cost 70.33333333333333\n\n"
     ]
    }
   ],
   "source": [
    "def print_strategies_costs(res):\n",
    "    for i in xrange(res.shape[0]):\n",
    "        print('strategy {} costs {}'.format(i + 1, res[i]))\n",
    "    print('\\nbest strategy {} with cost {}\\n'.format(np.argmin(res) + 1, np.min(res)))\n",
    "        \n",
    "        \n",
    "probabilities = np.full(12, 1 / 12)\n",
    "    \n",
    "res = np.sum(strategy_costs * probabilities, axis=1)\n",
    "print_strategies_costs(res)\n"
   ]
  },
  {
   "cell_type": "markdown",
   "metadata": {},
   "source": [
    "Визначити найкращу стратегію при поверненні протягом одного сезону за наданих наборів ймовірностей повернення у кожен з місяців.\n",
    "Імовірності повернення в кожен місяць певного сезону рівні."
   ]
  },
  {
   "cell_type": "code",
   "execution_count": 72,
   "metadata": {},
   "outputs": [
    {
     "name": "stdout",
     "output_type": "stream",
     "text": [
      "season 0\nstrategy 1 costs 147.0\nstrategy 2 costs 75.0\nstrategy 3 costs 136.0\nstrategy 4 costs 116.0\nstrategy 5 costs 116.0\nstrategy 6 costs 120.0\n\nbest strategy 2 with cost 75.0\n\nseason 1\nstrategy 1 costs 149.0\nstrategy 2 costs 102.33333333333333\nstrategy 3 costs 88.0\nstrategy 4 costs 76.66666666666666\nstrategy 5 costs 81.33333333333333\nstrategy 6 costs 90.0\n\nbest strategy 4 with cost 76.66666666666666\n\nseason 2\nstrategy 1 costs 138.33333333333331\nstrategy 2 costs 104.33333333333333\nstrategy 3 costs 79.33333333333333\nstrategy 4 costs 40.666666666666664\nstrategy 5 costs 34.666666666666664\nstrategy 6 costs 57.99999999999999\n\nbest strategy 5 with cost 34.666666666666664\n\nseason 3\nstrategy 1 costs 145.66666666666666\nstrategy 2 costs 111.66666666666666\nstrategy 3 costs 68.66666666666666\nstrategy 4 costs 48.0\nstrategy 5 costs 57.33333333333333\nstrategy 6 costs 70.66666666666666\n\nbest strategy 4 with cost 48.0\n\n"
     ]
    }
   ],
   "source": [
    "season_probabilities = np.zeros((4, 12))\n",
    "\n",
    "num_seasons = 4\n",
    "season_size = 3\n",
    "for season in xrange(num_seasons):\n",
    "    for i in xrange(season_size):\n",
    "        season_probabilities[season][season_size * season + i - 1] = 1 / season_size\n",
    "        \n",
    "for season in xrange(num_seasons):\n",
    "    print('season {}'.format(season))\n",
    "    res = np.sum(strategy_costs * season_probabilities[season], axis=1)\n",
    "    print_strategies_costs(res)    \n",
    "\n"
   ]
  },
  {
   "cell_type": "markdown",
   "metadata": {},
   "source": [
    "Визначити найкращу стратегію при поверненні протягом одного з 12-ти місяців за умови, що ймовірність повернення взимку втричі більша за інші місяці."
   ]
  },
  {
   "cell_type": "code",
   "execution_count": 73,
   "metadata": {},
   "outputs": [
    {
     "name": "stdout",
     "output_type": "stream",
     "text": [
      "strategy 1 costs 146.33333333333331\nstrategy 2 costs 82.77777777777779\nstrategy 3 costs 121.66666666666669\nstrategy 4 costs 100.77777777777776\nstrategy 5 costs 101.44444444444446\nstrategy 6 costs 108.22222222222223\n\nbest strategy 2 with cost 82.77777777777779\n\n"
     ]
    }
   ],
   "source": [
    "winter_month_p = 3 / 12  # 3 / 4 /3\n",
    "other_month_p = 1 / 36  # 1 / 4 / 9\n",
    "\n",
    "assert winter_month_p * 3 + other_month_p * 9 == 1.0, 'wrong probabilities!'\n",
    "\n",
    "probabilities = np.full(12, other_month_p)\n",
    "probabilities[0] = winter_month_p\n",
    "probabilities[1] = winter_month_p\n",
    "probabilities[11] = winter_month_p\n",
    "\n",
    "res = np.sum(strategy_costs * probabilities, axis=1)\n",
    "print_strategies_costs(res)\n",
    "\n"
   ]
  },
  {
   "cell_type": "markdown",
   "metadata": {},
   "source": [
    "Визначити найкращу стратегію при поверненні протягом одного з 12-ти місяців за умови, що ймовірність повернення залежить від кількості днів у місяці (рік вважати не високосним).\n"
   ]
  },
  {
   "cell_type": "markdown",
   "metadata": {},
   "source": [
    "Визначити найкращу стратегію при поверненні протягом одного з 12-ти місяців за умови, що ймовірність повернення в кожен з місяців однакова, а початкова вартість речей з номерами № 2, 4, 9, 15, 16 (табл. 3.1) зменшилася втричі."
   ]
  },
  {
   "cell_type": "markdown",
   "metadata": {},
   "source": [
    "Визначити найкращу стратегію при поверненні протягом одного з 12-ти місяців за умови, що ймовірність повернення в кожен з місяців однакова, а початкова вартість речей з номерами № 2, 4, 9, 15, 16 (табл. 3.1) зменшилася втричі."
   ]
  },
  {
   "cell_type": "code",
   "execution_count": 75,
   "metadata": {
    "collapsed": true
   },
   "outputs": [
    {
     "name": "stdout",
     "output_type": "stream",
     "text": [
      "month  1\n\nstrategy 0\n24.0+4=28.0\nПальто, Джинси, \n\nstrategy 1\n0+0=0\n\n\nstrategy 2\n30.0+8=38.0\nПальто, Рукавички, Чоботи, Шапка, \n\nstrategy 3\n30.0+8=38.0\nПальто, Рукавички, Чоботи, Шапка, \n\nstrategy 4\n30.0+8=38.0\nПальто, Рукавички, Чоботи, Шапка, \n\nstrategy 5\n42.0+10=52.0\nДжинси, Пальто, Рукавички, Чоботи, Шапка, \n--------------------------------------------------------------------------------\nmonth  2\n\nstrategy 0\n24.0+4=28.0\nПальто, Джинси, \n\nstrategy 1\n0+0=0\n\n\nstrategy 2\n30.0+8=38.0\nПальто, Рукавички, Чоботи, Шапка, \n\nstrategy 3\n30.0+8=38.0\nПальто, Рукавички, Чоботи, Шапка, \n\nstrategy 4\n30.0+8=38.0\nПальто, Рукавички, Чоботи, Шапка, \n\nstrategy 5\n42.0+10=52.0\nДжинси, Пальто, Рукавички, Чоботи, Шапка, \n--------------------------------------------------------------------------------\nmonth  3\n\nstrategy 0\n24.0+4=28.0\nПальто, Джинси, \n\nstrategy 1\n0+0=0\n\n\nstrategy 2\n30.0+8=38.0\nПальто, Рукавички, Чоботи, Шапка, \n\nstrategy 3\n30.0+8=38.0\nПальто, Рукавички, Чоботи, Шапка, \n\nstrategy 4\n30.0+8=38.0\nПальто, Рукавички, Чоботи, Шапка, \n\nstrategy 5\n42.0+10=52.0\nДжинси, Пальто, Рукавички, Чоботи, Шапка, \n--------------------------------------------------------------------------------\nmonth  4\n\nstrategy 0\n60+8=68\nКепка, Джинси, Черевики, Куртка, \n\nstrategy 1\n48+6=54\nКепка, Черевики, Куртка, \n\nstrategy 2\n0+0=0\n\n\nstrategy 3\n48+6=54\nКепка, Черевики, Куртка, \n\nstrategy 4\n48+6=54\nКепка, Черевики, Куртка, \n\nstrategy 5\n60+8=68\nКепка, Джинси, Черевики, Куртка, \n--------------------------------------------------------------------------------\nmonth  5\n\nstrategy 0\n36+6=42\nСветр, Джинси, Кросівки, \n\nstrategy 1\n24+4=28\nСветр, Кросівки, \n\nstrategy 2\n24+4=28\nСветр, Кросівки, \n\nstrategy 3\n0+0=0\n\n\nstrategy 4\n12+2=14\nСветр, \n\nstrategy 5\n36+6=42\nСветр, Джинси, Кросівки, \n--------------------------------------------------------------------------------\nmonth  6\n\nstrategy 0\n36+6=42\nСветр, Джинси, Кросівки, \n\nstrategy 1\n24+4=28\nСветр, Кросівки, \n\nstrategy 2\n24+4=28\nСветр, Кросівки, \n\nstrategy 3\n0+0=0\n\n\nstrategy 4\n12+2=14\nСветр, \n\nstrategy 5\n36+6=42\nСветр, Джинси, Кросівки, \n--------------------------------------------------------------------------------\nmonth  7\n\nstrategy 0\n36+8=44\nБлайзер, Сорочка, Джинси, Кросівки, \n\nstrategy 1\n24+6=30\nБлайзер, Сорочка, Кросівки, \n\nstrategy 2\n24+6=30\nБлайзер, Сорочка, Кросівки, \n\nstrategy 3\n12+4=16\nБлайзер, Сорочка, \n\nstrategy 4\n0+0=0\n\n\nstrategy 5\n30+6=36\nСорочка, Джинси, Кросівки, \n--------------------------------------------------------------------------------\nmonth  8\n\nstrategy 0\n36+8=44\nБлайзер, Сорочка, Джинси, Кросівки, \n\nstrategy 1\n24+6=30\nБлайзер, Сорочка, Кросівки, \n\nstrategy 2\n24+6=30\nБлайзер, Сорочка, Кросівки, \n\nstrategy 3\n12+4=16\nБлайзер, Сорочка, \n\nstrategy 4\n0+0=0\n\n\nstrategy 5\n30+6=36\nСорочка, Джинси, Кросівки, \n--------------------------------------------------------------------------------\nmonth  9\n\nstrategy 0\n36+6=42\nСветр, Джинси, Кросівки, \n\nstrategy 1\n24+4=28\nСветр, Кросівки, \n\nstrategy 2\n24+4=28\nСветр, Кросівки, \n\nstrategy 3\n0+0=0\n\n\nstrategy 4\n12+2=14\nСветр, \n\nstrategy 5\n36+6=42\nСветр, Джинси, Кросівки, \n--------------------------------------------------------------------------------\nmonth  10\n\nstrategy 0\n36+6=42\nСветр, Джинси, Кросівки, \n\nstrategy 1\n24+4=28\nСветр, Кросівки, \n\nstrategy 2\n24+4=28\nСветр, Кросівки, \n\nstrategy 3\n0+0=0\n\n\nstrategy 4\n12+2=14\nСветр, \n\nstrategy 5\n36+6=42\nСветр, Джинси, Кросівки, \n--------------------------------------------------------------------------------\nmonth  11\n\nstrategy 0\n60+8=68\nКепка, Джинси, Черевики, Куртка, \n\nstrategy 1\n48+6=54\nКепка, Черевики, Куртка, \n\nstrategy 2\n0+0=0\n\n\nstrategy 3\n48+6=54\nКепка, Черевики, Куртка, \n\nstrategy 4\n48+6=54\nКепка, Черевики, Куртка, \n\nstrategy 5\n60+8=68\nКепка, Джинси, Черевики, Куртка, \n--------------------------------------------------------------------------------\nmonth  12\n\nstrategy 0\n24.0+4=28.0\nПальто, Джинси, \n\nstrategy 1\n0+0=0\n\n\nstrategy 2\n30.0+8=38.0\nПальто, Рукавички, Чоботи, Шапка, \n\nstrategy 3\n30.0+8=38.0\nПальто, Рукавички, Чоботи, Шапка, \n\nstrategy 4\n30.0+8=38.0\nПальто, Рукавички, Чоботи, Шапка, \n\nstrategy 5\n42.0+10=52.0\nДжинси, Пальто, Рукавички, Чоботи, Шапка, \n--------------------------------------------------------------------------------\n"
     ]
    }
   ],
   "source": [
    "prices = (6, 48 / 3, 24, 6 / 3, 12, 6, 12, 24, 36 / 3, 6, 12, 6, 6, 18, 24 / 3, 12 / 3, 6)\n",
    "\n",
    "new_strategy_costs = np.zeros((6, 12), dtype=float)\n",
    "\n",
    "for month in xrange(12):\n",
    "    print('month ', month + 1)\n",
    "    for j in xrange(6):\n",
    "        print('\\nstrategy {}'.format(j))\n",
    "        sett = sets[j]\n",
    "        appropriate_set = sets[get_appropriate_set(month)]\n",
    "        diff = appropriate_set - sett\n",
    "        diff_cost = closes_cost(diff)\n",
    "        penalty = penalty_price * len(diff)\n",
    "        print('{}+{}={}'.format(diff_cost, penalty, diff_cost + penalty))\n",
    "        print_closes_in_set(diff)\n",
    "        \n",
    "        new_strategy_costs[j][month] = set_weights[j] * transportation_cost + diff_cost + penalty\n",
    "    print('-' * 80)"
   ]
  },
  {
   "cell_type": "code",
   "execution_count": 76,
   "metadata": {},
   "outputs": [
    {
     "name": "stdout",
     "output_type": "stream",
     "text": [
      "strategy 1 costs 137.0\nstrategy 2 costs 98.33333333333331\nstrategy 3 costs 77.0\nstrategy 4 costs 54.33333333333333\nstrategy 5 costs 56.33333333333332\nstrategy 6 costs 68.66666666666666\n\nbest strategy 4 with cost 54.33333333333333\n\n"
     ]
    }
   ],
   "source": [
    "probabilities = np.full(12, 1 / 12)\n",
    "\n",
    "res = np.sum(new_strategy_costs * probabilities, axis=1)\n",
    "print_strategies_costs(res)"
   ]
  },
  {
   "cell_type": "code",
   "execution_count": 64,
   "metadata": {},
   "outputs": [
    {
     "name": "stdout",
     "output_type": "stream",
     "text": [
      "8.66666666667\n"
     ]
    }
   ],
   "source": [
    "print(np.average(temperatures))"
   ]
  },
  {
   "cell_type": "code",
   "execution_count": null,
   "metadata": {},
   "outputs": [],
   "source": []
  }
 ],
 "metadata": {
  "kernelspec": {
   "display_name": "Python 2",
   "language": "python",
   "name": "python2"
  },
  "language_info": {
   "codemirror_mode": {
    "name": "ipython",
    "version": 2
   },
   "file_extension": ".py",
   "mimetype": "text/x-python",
   "name": "python",
   "nbconvert_exporter": "python",
   "pygments_lexer": "ipython2",
   "version": "2.7.6"
  }
 },
 "nbformat": 4,
 "nbformat_minor": 0
}
