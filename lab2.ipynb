{
 "cells": [
  {
   "cell_type": "markdown",
   "metadata": {
    "collapsed": false
   },
   "source": [
    "Теорія прийняття рішень\n",
    "\n",
    "Лабораторна робота №2 \"Прийняття рішень в умовах ризику\"\n",
    "\n",
    "Мета роботи:\n",
    "Ознайомитись з методами прийняття рішень в умовах, коли вибір деякої стратегії пов’язаний з певним набором станів середовища з визначеною ймовірністю."
   ]
  },
  {
   "cell_type": "markdown",
   "metadata": {},
   "source": [
    "Розглянемо знаходження оптимальної стратегії на прикладі наступної задачі: необхідно визначити оптимальну стратегію з вибору одягу для подорожі за умови, що Ви відбуваєте та повинні повернутись у вказане місце.\n",
    "Набори одягу, які можна взяти із собою, складаються з: верхнього одягу, головного убору, брюк, взуття та рукавиць, причому кожен набір одягу є оптимальним для деякого діапазону температур. Час, який Ви будете перебувати в іншому місці, Вам невідомий, бо все залежить від обставин, тому Вам необхідно визначитись з набором одягу заздалегідь. А уніформа, в якій Ви перебуваєте на час відправлення, до кінця поїздки вже зноситься."
   ]
  },
  {
   "cell_type": "code",
   "execution_count": null,
   "metadata": {
    "collapsed": false
   },
   "outputs": [],
   "source": [
    "from past.builtins import xrange\n",
    "import numpy as np\n",
    "\n",
    "names = {\n",
    "    1: 'Блайзер',\n",
    "    2: 'Бушлат',\n",
    "    3: 'Ватні штани',\n",
    "    4: 'В’єтнамки',\n",
    "    5: 'Джинси',\n",
    "    6: 'Кепка',\n",
    "    7: 'Кросівки',\n",
    "    8: 'Куртка',\n",
    "    9: 'Пальто',\n",
    "    10: 'Рукавички',\n",
    "    11: 'Светр',\n",
    "    12: 'Сорочка',\n",
    "    13: 'Футболка',\n",
    "    14: 'Черевики',\n",
    "    15: 'Чоботи',\n",
    "    16: 'Шапка',\n",
    "    17: 'Шорти'\n",
    "}\n",
    "weights = (0.5, 4, 2, 0.5, 1, 0.5, 1, 2, 3, 0.5, 1, 0.5, 0.5, 1.5, 2, 1, 0.5)\n",
    "prices = (6, 48, 24, 6, 12, 6, 12, 24, 36, 6, 12, 6, 6, 18, 24, 12, 6)\n",
    "\n",
    "sets = (\n",
    "    {16, 2, 10, 3, 15},\n",
    "    {16, 9, 10, 5, 15},\n",
    "    {6, 8, 5, 14},\n",
    "    {11, 5, 7},\n",
    "    {1, 12, 5, 7},\n",
    "    {1, 13, 17, 4}\n",
    ")\n",
    "set_weights = (9.5, 7.5, 5, 3, 3, 2)\n",
    "set_temperatures = (\n",
    "    (-50, -10),\n",
    "    (-9, 0),\n",
    "    (1, 10),\n",
    "    (11, 20),\n",
    "    (21, 30),\n",
    "    (31, 50)\n",
    ")\n",
    "\n",
    "temperatures = (-4, -4, 0, 7, 12, 17, 21, 22, 18, 11, 5, -1)\n",
    "\n",
    "penalty_price = 2\n",
    "transportation_cost = 10\n",
    "\n",
    "\n",
    "def get_appropriate_set(month_index):\n",
    "    month_temperature = temperatures[month_index]\n",
    "    for i in range(len(set_temperatures)):\n",
    "        if set_temperatures[i][0] <= month_temperature <= set_temperatures[i][1]:\n",
    "            return i\n",
    "    return -1\n",
    "\n",
    "\n",
    "def closes_cost(clothes_set):\n",
    "    cost = 0\n",
    "    for item in clothes_set:\n",
    "        cost += prices[item]\n",
    "\n",
    "    return cost\n",
    "\n",
    "\n",
    "def print_closes_in_set(clothes_set):\n",
    "    s = ''\n",
    "    for item in clothes_set:\n",
    "        s += names[item] + ', '\n",
    "    print(s)\n",
    "\n",
    "\n",
    "strategy_costs = np.zeros((6, 12), dtype=float)\n",
    "\n",
    "for month in xrange(12):\n",
    "    print('month ', month + 1)\n",
    "    for j in xrange(6):\n",
    "        print('\\nstrategy {}'.format(j))\n",
    "        sett = sets[j]\n",
    "        appropriate_set = sets[get_appropriate_set(month)]\n",
    "        diff = appropriate_set - sett\n",
    "        diff_cost = closes_cost(diff)\n",
    "        penalty = penalty_price * len(diff)\n",
    "        print('{}+{}={}'.format(diff_cost, penalty, diff_cost + penalty))\n",
    "        print_closes_in_set(diff)\n",
    "        \n",
    "        strategy_costs[j][month] = set_weights[j] * transportation_cost + diff_cost + penalty\n",
    "    print('-' * 80)\n",
    "\n",
    "# print('=' * 80)\n",
    "# for weight in set_weights:\n",
    "#     print(weight * transportation_cost)\n"
   ]
  },
  {
   "cell_type": "markdown",
   "metadata": {},
   "source": [
    "Визначити найкращу стратегію при поверненні протягом одного з 12-ти місяців за умови, що ймовірність повернення в кожен з місяців однакова."
   ]
  },
  {
   "cell_type": "code",
   "execution_count": 50,
   "metadata": {
    "collapsed": true
   },
   "outputs": [
    {
     "name": "stdout",
     "output_type": "stream",
     "text": [
      "strategy 1 costs 144.0\nstrategy 2 costs 113.33333333333331\nstrategy 3 costs 90.0\nstrategy 4 costs 67.33333333333333\nstrategy 5 costs 60.33333333333332\nstrategy 6 costs 72.66666666666666\n\nbest strategy 5 with cost 60.33333333333332\n\n"
     ]
    }
   ],
   "source": [
    "def print_strategies_costs(res):\n",
    "    for i in xrange(res.shape[0]):\n",
    "        print('strategy {} costs {}'.format(i + 1, res[i]))\n",
    "    print('\\nbest strategy {} with cost {}\\n'.format(np.argmin(res) + 1, np.min(res)))\n",
    "        \n",
    "        \n",
    "probabilities = np.full(12, 1 / 12)\n",
    "    \n",
    "res = np.sum(strategy_costs * probabilities, axis=1)\n",
    "print_strategies_costs(res)\n"
   ]
  },
  {
   "cell_type": "markdown",
   "metadata": {},
   "source": [
    "Визначити найкращу стратегію при поверненні протягом одного сезону за наданих наборів ймовірностей повернення у кожен з місяців.\n",
    "Імовірності повернення в кожен місяць певного сезону рівні."
   ]
  },
  {
   "cell_type": "code",
   "execution_count": 61,
   "metadata": {},
   "outputs": [
    {
     "name": "stdout",
     "output_type": "stream",
     "text": [
      "season 0\nstrategy 1 costs 111.0\nstrategy 2 costs 75.0\nstrategy 3 costs 94.0\nstrategy 4 costs 74.0\nstrategy 5 costs 74.0\nstrategy 6 costs 72.0\n\nbest strategy 6 with cost 72.0\n\nseason 1\nstrategy 1 costs 143.0\nstrategy 2 costs 112.33333333333333\nstrategy 3 costs 76.0\nstrategy 4 costs 70.66666666666666\nstrategy 5 costs 73.33333333333333\nstrategy 6 costs 80.0\n\nbest strategy 4 with cost 70.66666666666666\n\nseason 2\nstrategy 1 costs 170.33333333333331\nstrategy 2 costs 142.33333333333331\nstrategy 3 costs 117.33333333333333\nstrategy 4 costs 68.66666666666666\nstrategy 5 costs 32.666666666666664\nstrategy 6 costs 61.99999999999999\n\nbest strategy 5 with cost 32.666666666666664\n\nseason 3\nstrategy 1 costs 151.66666666666666\nstrategy 2 costs 123.66666666666666\nstrategy 3 costs 72.66666666666666\nstrategy 4 costs 56.0\nstrategy 5 costs 61.33333333333333\nstrategy 6 costs 76.66666666666666\n\nbest strategy 4 with cost 56.0\n\n"
     ]
    }
   ],
   "source": [
    "season_probabilities = np.zeros((4, 12))\n",
    "\n",
    "num_seasons = 4\n",
    "season_size = 3\n",
    "for season in xrange(num_seasons):\n",
    "    for i in xrange(season_size):\n",
    "        season_probabilities[season][season_size * season + i - 1] = 1 / season_size\n",
    "        \n",
    "for season in xrange(num_seasons):\n",
    "    print('season {}'.format(season))\n",
    "    res = np.sum(strategy_costs * season_probabilities[season], axis=1)\n",
    "    print_strategies_costs(res)    \n",
    "\n"
   ]
  },
  {
   "cell_type": "markdown",
   "metadata": {},
   "source": [
    "Визначити найкращу стратегію при поверненні протягом одного з 12-ти місяців за умови, що ймовірність повернення взимку втричі більша за інші місяці."
   ]
  },
  {
   "cell_type": "code",
   "execution_count": 41,
   "metadata": {},
   "outputs": [
    {
     "name": "stdout",
     "output_type": "stream",
     "text": [
      "strategy 1 costs 122.0\nstrategy 2 costs 87.77777777777777\nstrategy 3 costs 92.66666666666666\nstrategy 4 costs 71.77777777777779\nstrategy 5 costs 69.44444444444446\nstrategy 6 costs 72.22222222222221\n\nbest strategy 5 with cost 69.44444444444446\n\n"
     ]
    }
   ],
   "source": [
    "winter_month_p = 3 / 12  # 3 / 4 /3\n",
    "other_month_p = 1 / 36  # 1 / 4 / 9\n",
    "\n",
    "assert winter_month_p * 3 + other_month_p * 9 == 1.0, 'wrong probabilities!'\n",
    "\n",
    "probabilities = np.full(12, other_month_p)\n",
    "probabilities[0] = winter_month_p\n",
    "probabilities[1] = winter_month_p\n",
    "probabilities[11] = winter_month_p\n",
    "\n",
    "res = np.sum(strategy_costs * probabilities, axis=1)\n",
    "print_strategies_costs(res)\n",
    "\n"
   ]
  },
  {
   "cell_type": "markdown",
   "metadata": {},
   "source": [
    "Визначити найкращу стратегію при поверненні протягом одного з 12-ти місяців за умови, що ймовірність повернення залежить від кількості днів у місяці (рік вважати не високосним).\n"
   ]
  },
  {
   "cell_type": "markdown",
   "metadata": {},
   "source": [
    "Визначити найкращу стратегію при поверненні протягом одного з 12-ти місяців за умови, що ймовірність повернення в кожен з місяців однакова, а початкова вартість речей з номерами № 2, 4, 9, 15, 16 (табл. 3.1) зменшилася втричі."
   ]
  },
  {
   "cell_type": "markdown",
   "metadata": {},
   "source": [
    "Визначити найкращу стратегію при поверненні протягом одного з 12-ти місяців за умови, що ймовірність повернення в кожен з місяців однакова, а початкова вартість речей з номерами № 2, 4, 9, 15, 16 (табл. 3.1) зменшилася втричі."
   ]
  },
  {
   "cell_type": "code",
   "execution_count": 52,
   "metadata": {
    "collapsed": false
   },
   "outputs": [
    {
     "name": "stdout",
     "output_type": "stream",
     "text": [
      "month  1\n\nstrategy 0\n12+4=16\nПальто, Джинси, \n\nstrategy 1\n0+0=0\n\n\nstrategy 2\n28.0+8=36.0\nШапка, Пальто, Рукавички, Чоботи, \n\nstrategy 3\n28.0+8=36.0\nШапка, Пальто, Рукавички, Чоботи, \n\nstrategy 4\n28.0+8=36.0\nШапка, Пальто, Рукавички, Чоботи, \n\nstrategy 5\n34.0+10=44.0\nДжинси, Пальто, Рукавички, Чоботи, Шапка, \n--------------------------------------------------------------------------------\nmonth  2\n\nstrategy 0\n12+4=16\nПальто, Джинси, \n\nstrategy 1\n0+0=0\n\n\nstrategy 2\n28.0+8=36.0\nШапка, Пальто, Рукавички, Чоботи, \n\nstrategy 3\n28.0+8=36.0\nШапка, Пальто, Рукавички, Чоботи, \n\nstrategy 4\n28.0+8=36.0\nШапка, Пальто, Рукавички, Чоботи, \n\nstrategy 5\n34.0+10=44.0\nДжинси, Пальто, Рукавички, Чоботи, Шапка, \n--------------------------------------------------------------------------------\nmonth  3\n\nstrategy 0\n12+4=16\nПальто, Джинси, \n\nstrategy 1\n0+0=0\n\n\nstrategy 2\n28.0+8=36.0\nШапка, Пальто, Рукавички, Чоботи, \n\nstrategy 3\n28.0+8=36.0\nШапка, Пальто, Рукавички, Чоботи, \n\nstrategy 4\n28.0+8=36.0\nШапка, Пальто, Рукавички, Чоботи, \n\nstrategy 5\n34.0+10=44.0\nДжинси, Пальто, Рукавички, Чоботи, Шапка, \n--------------------------------------------------------------------------------\nmonth  4\n\nstrategy 0\n38.0+8=46.0\nКуртка, Джинси, Кепка, Черевики, \n\nstrategy 1\n32.0+6=38.0\nКуртка, Кепка, Черевики, \n\nstrategy 2\n0+0=0\n\n\nstrategy 3\n32.0+6=38.0\nКуртка, Кепка, Черевики, \n\nstrategy 4\n32.0+6=38.0\nКуртка, Кепка, Черевики, \n\nstrategy 5\n38.0+8=46.0\nКуртка, Джинси, Кепка, Черевики, \n--------------------------------------------------------------------------------\nmonth  5\n\nstrategy 0\n36+6=42\nСветр, Джинси, Кросівки, \n\nstrategy 1\n30+4=34\nСветр, Кросівки, \n\nstrategy 2\n30+4=34\nСветр, Кросівки, \n\nstrategy 3\n0+0=0\n\n\nstrategy 4\n6+2=8\nСветр, \n\nstrategy 5\n36+6=42\nСветр, Джинси, Кросівки, \n--------------------------------------------------------------------------------\nmonth  6\n\nstrategy 0\n36+6=42\nСветр, Джинси, Кросівки, \n\nstrategy 1\n30+4=34\nСветр, Кросівки, \n\nstrategy 2\n30+4=34\nСветр, Кросівки, \n\nstrategy 3\n0+0=0\n\n\nstrategy 4\n6+2=8\nСветр, \n\nstrategy 5\n36+6=42\nСветр, Джинси, Кросівки, \n--------------------------------------------------------------------------------\nmonth  7\n\nstrategy 0\n52.0+8=60.0\nБлайзер, Сорочка, Джинси, Кросівки, \n\nstrategy 1\n46.0+6=52.0\nБлайзер, Сорочка, Кросівки, \n\nstrategy 2\n46.0+6=52.0\nБлайзер, Сорочка, Кросівки, \n\nstrategy 3\n22.0+4=26.0\nБлайзер, Сорочка, \n\nstrategy 4\n0+0=0\n\n\nstrategy 5\n36+6=42\nСорочка, Джинси, Кросівки, \n--------------------------------------------------------------------------------\nmonth  8\n\nstrategy 0\n52.0+8=60.0\nБлайзер, Сорочка, Джинси, Кросівки, \n\nstrategy 1\n46.0+6=52.0\nБлайзер, Сорочка, Кросівки, \n\nstrategy 2\n46.0+6=52.0\nБлайзер, Сорочка, Кросівки, \n\nstrategy 3\n22.0+4=26.0\nБлайзер, Сорочка, \n\nstrategy 4\n0+0=0\n\n\nstrategy 5\n36+6=42\nСорочка, Джинси, Кросівки, \n--------------------------------------------------------------------------------\nmonth  9\n\nstrategy 0\n36+6=42\nСветр, Джинси, Кросівки, \n\nstrategy 1\n30+4=34\nСветр, Кросівки, \n\nstrategy 2\n30+4=34\nСветр, Кросівки, \n\nstrategy 3\n0+0=0\n\n\nstrategy 4\n6+2=8\nСветр, \n\nstrategy 5\n36+6=42\nСветр, Джинси, Кросівки, \n--------------------------------------------------------------------------------\nmonth  10\n\nstrategy 0\n36+6=42\nСветр, Джинси, Кросівки, \n\nstrategy 1\n30+4=34\nСветр, Кросівки, \n\nstrategy 2\n30+4=34\nСветр, Кросівки, \n\nstrategy 3\n0+0=0\n\n\nstrategy 4\n6+2=8\nСветр, \n\nstrategy 5\n36+6=42\nСветр, Джинси, Кросівки, \n--------------------------------------------------------------------------------\nmonth  11\n\nstrategy 0\n38.0+8=46.0\nКуртка, Джинси, Кепка, Черевики, \n\nstrategy 1\n32.0+6=38.0\nКуртка, Кепка, Черевики, \n\nstrategy 2\n0+0=0\n\n\nstrategy 3\n32.0+6=38.0\nКуртка, Кепка, Черевики, \n\nstrategy 4\n32.0+6=38.0\nКуртка, Кепка, Черевики, \n\nstrategy 5\n38.0+8=46.0\nКуртка, Джинси, Кепка, Черевики, \n--------------------------------------------------------------------------------\nmonth  12\n\nstrategy 0\n12+4=16\nПальто, Джинси, \n\nstrategy 1\n0+0=0\n\n\nstrategy 2\n28.0+8=36.0\nШапка, Пальто, Рукавички, Чоботи, \n\nstrategy 3\n28.0+8=36.0\nШапка, Пальто, Рукавички, Чоботи, \n\nstrategy 4\n28.0+8=36.0\nШапка, Пальто, Рукавички, Чоботи, \n\nstrategy 5\n34.0+10=44.0\nДжинси, Пальто, Рукавички, Чоботи, Шапка, \n--------------------------------------------------------------------------------\n"
     ]
    }
   ],
   "source": [
    "prices = (6, 48 / 3, 24, 6 / 3, 12, 6, 12, 24, 36 / 3, 6, 12, 6, 6, 18, 24 / 3, 12 / 3, 6)\n",
    "\n",
    "new_strategy_costs = np.zeros((6, 12), dtype=float)\n",
    "\n",
    "for month in xrange(12):\n",
    "    print('month ', month + 1)\n",
    "    for j in xrange(6):\n",
    "        print('\\nstrategy {}'.format(j))\n",
    "        sett = sets[j]\n",
    "        appropriate_set = sets[get_appropriate_set(month)]\n",
    "        diff = appropriate_set - sett\n",
    "        diff_cost = closes_cost(diff)\n",
    "        penalty = penalty_price * len(diff)\n",
    "        print('{}+{}={}'.format(diff_cost, penalty, diff_cost + penalty))\n",
    "        print_closes_in_set(diff)\n",
    "        \n",
    "        new_strategy_costs[j][month] = set_weights[j] * transportation_cost + diff_cost + penalty\n",
    "    print('-' * 80)"
   ]
  },
  {
   "cell_type": "code",
   "execution_count": 55,
   "metadata": {},
   "outputs": [
    {
     "name": "stdout",
     "output_type": "stream",
     "text": [
      "strategy 1 costs 132.0\nstrategy 2 costs 101.33333333333333\nstrategy 3 costs 82.0\nstrategy 4 costs 52.666666666666664\nstrategy 5 costs 50.99999999999999\nstrategy 6 costs 63.33333333333333\n\nbest strategy 5 with cost 50.99999999999999\n\n"
     ]
    }
   ],
   "source": [
    "probabilities = np.full(12, 1 / 12)\n",
    "\n",
    "res = np.sum(new_strategy_costs * probabilities, axis=1)\n",
    "print_strategies_costs(res)"
   ]
  },
  {
   "cell_type": "code",
   "execution_count": null,
   "metadata": {},
   "outputs": [],
   "source": []
  }
 ],
 "metadata": {
  "kernelspec": {
   "display_name": "Python 2",
   "language": "python",
   "name": "python2"
  },
  "language_info": {
   "codemirror_mode": {
    "name": "ipython",
    "version": 2
   },
   "file_extension": ".py",
   "mimetype": "text/x-python",
   "name": "python",
   "nbconvert_exporter": "python",
   "pygments_lexer": "ipython2",
   "version": "2.7.6"
  }
 },
 "nbformat": 4,
 "nbformat_minor": 0
}
