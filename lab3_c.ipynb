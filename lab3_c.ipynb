{
 "cells": [
  {
   "cell_type": "markdown",
   "metadata": {
    "collapsed": true
   },
   "source": [
    "#Теорія прийняття рішень\n",
    "\n",
    "##ЛАБОРАТОРНА РОБОТА № 3 \n",
    "<i>\"Прийняття рішень в умовах повної інформації (Задача про упакування в контейнери\"</i>\n",
    "\n",
    "<b>Мета роботи:</b> Ознайомитись з методами прийняття рішень в умовах повної інформації на прикладі задачі про упакування в контейнери та дослідити особливості їх використання"
   ]
  },
  {
   "cell_type": "code",
   "execution_count": 23,
   "metadata": {},
   "outputs": [],
   "source": [
    "weights = [90, 76, 99, 52, 31, 87, 77, 99, 57, 66,\n",
    "           52, 17, 41, 35, 68, 98, 84, 95, 76, 5,\n",
    "           66, 28, 54, 28, 8, 93, 78, 97, 55, 72,\n",
    "           74, 45, 51, 25, 97, 83, 12, 27, 82, 21,\n",
    "           93, 34, 39, 34, 21, 59, 85, 57, 54, 61,\n",
    "           62, 72, 41, 16, 52, 50, 62, 82, 99, 17]\n",
    "n = len(weights)\n",
    "w1 = weights[0:n // 3]\n",
    "w2 = weights[n // 3:2 * n // 3]\n",
    "w3 = weights[2 * n // 3:n]\n",
    "rows = {\n",
    "    'row1': w1,\n",
    "    'row2': w2,\n",
    "    'row3': w3\n",
    "}\n",
    "container_capacity = 100"
   ]
  },
  {
   "cell_type": "markdown",
   "metadata": {},
   "source": [
    "##Алгоритм «заповнення наступного»\n",
    "\n",
    "Найбільш простий алгоритм, що в більшості випадків дає найгірші результати. Його перевагою є те, що він потребує найменшу кількість операцій порівняння.\n",
    "1. Беремо новий елемент.\n",
    "2. Беремо новий контейнер.\n",
    "3. Кладемо елемент в контейнер.\n",
    "4. Беремо наступний елемент.\n",
    "5. Якщо елемент вміщується в контейнер, то йдемо на крок 3. Якщо елемент не вміщується – йдемо на крок 2."
   ]
  },
  {
   "cell_type": "code",
   "execution_count": 24,
   "metadata": {},
   "outputs": [],
   "source": [
    "def nfa(weights, container_capacity, sort=False):\n",
    "    if sort:\n",
    "        weights = sorted(weights, reverse=True)\n",
    "        \n",
    "    containers = [0]\n",
    "    p = 0\n",
    "    counter = 0\n",
    "    for weight in weights:\n",
    "        counter += 1\n",
    "        if containers[p] + weight <= container_capacity:\n",
    "            containers[p] += weight\n",
    "        else:\n",
    "            containers.append(weight)\n",
    "            p += 1\n",
    "                \n",
    "    return containers, counter"
   ]
  },
  {
   "cell_type": "markdown",
   "metadata": {},
   "source": [
    "##Алгоритм «заповнення першого, що підходить»\n",
    "\n",
    "Більш вдалий алгоритм, що намагається мінімізувати кількість контейнерів, зменшуючи при цьому кількість порівнянь для пошуку найбільш вдалого розташування.\n",
    "1. Беремо новий елемент.\n",
    "2. Беремо новий контейнер.\n",
    "3. Кладемо елемент в контейнер.\n",
    "4. Беремо наступний елемент.\n",
    "5. Якщо елемент вміщується в контейнер, то йдемо на крок 3. Якщо елемент не вміщується, перевіряємо всі контейнери по черзі, починаючи з першого. Якщо знайдено контейнер з достатньою кількістю місця для розташування вантажу – йдемо на крок 3. Якщо вантаж не вміщується в жоден наявний контейнер – йдемо на крок 2. Наступним активним контейнером (з якого починається перевірка) доцільно обирати останній за номером, оскільки, потенційно, він є найменш заповненим."
   ]
  },
  {
   "cell_type": "code",
   "execution_count": 25,
   "metadata": {},
   "outputs": [],
   "source": [
    "def ffa(weights, container_capacity, sort=False):\n",
    "    if sort:\n",
    "        weights = sorted(weights, reverse=True)\n",
    "        \n",
    "    containers = [0]\n",
    "    p = 0\n",
    "    counter = 0\n",
    "    for weight in weights:\n",
    "        counter += 1\n",
    "        if containers[p] + weight <= container_capacity:\n",
    "            containers[p] += weight\n",
    "        else:\n",
    "            placed = False\n",
    "            for i in range(p):\n",
    "                counter += 1\n",
    "                if containers[i] + weight <= container_capacity:\n",
    "                    containers[i] += weight\n",
    "                    placed = True\n",
    "                    break\n",
    "            \n",
    "            counter += 1\n",
    "            if not placed:\n",
    "                containers.append(weight)\n",
    "                p += 1\n",
    "                \n",
    "    return containers, counter"
   ]
  },
  {
   "cell_type": "markdown",
   "metadata": {},
   "source": [
    "##Алгоритм заповнення «найменш повного»\n",
    "\n",
    "Головна ідея алгоритму – рівномірне розподілення вантажів по контейнерах. \n",
    "1. Беремо новий елемент.\n",
    "2. Беремо новий контейнер.\n",
    "3. Кладемо елемент в контейнер.\n",
    "4. Беремо наступний елемент.\n",
    "5. Якщо елемент вміщується в контейнер, то йдемо на крок 3. Якщо елемент не вміщується контейнер – перевіряємо всі контейнери на максимум вільного місця. Якщо в мінімально заповнений контейнер вантаж вміщується – йдемо на крок 3, якщо ні – на крок 2. Наступним активним контейнером (з якого починається перевірка) доцільно обирати останній за номером, оскільки, потенційно, він є найменш заповненим."
   ]
  },
  {
   "cell_type": "code",
   "execution_count": 26,
   "metadata": {},
   "outputs": [],
   "source": [
    "def wfa(weights, container_capacity, sort=False):\n",
    "    if sort:\n",
    "        weights = sorted(weights, reverse=True)\n",
    "        \n",
    "    containers = [0]\n",
    "    p = 0\n",
    "    counter = 0\n",
    "    for weight in weights:\n",
    "        counter += 1\n",
    "        if containers[p] + weight <= container_capacity:\n",
    "            containers[p] += weight\n",
    "        else:\n",
    "            min_pos = -1\n",
    "            min_filling = container_capacity\n",
    "            for i in range(p):\n",
    "                counter += 1\n",
    "                if containers[i] + weight <= container_capacity and \\\n",
    "                                containers[i] < min_filling:\n",
    "                    min_pos = i\n",
    "                    min_filling = containers[i]\n",
    "            \n",
    "            counter += 1\n",
    "            if min_pos != -1:\n",
    "                containers[min_pos] += weight\n",
    "            else:\n",
    "                containers.append(weight)\n",
    "                p += 1\n",
    "                \n",
    "    return containers, counter"
   ]
  },
  {
   "cell_type": "markdown",
   "metadata": {},
   "source": [
    "##Алгоритм заповнення «найкращого»\n",
    "\n",
    "Головна ідея алгоритму – створення більшої кількості повністю заповнених контейнерів. \n",
    "1. Беремо новий елемент.\n",
    "2. Беремо новий контейнер.\n",
    "3. Кладемо елемент в контейнер.\n",
    "4. Беремо наступний елемент.\n",
    "5. Якщо елемент вміщується в контейнер, то йдемо на крок 3. Якщо елемент не вміщується контейнер – перевіряємо всі контейнери на мінімум вільного місця, але в який ще можна покласти вантаж. Якщо такий контейнер знайдено – йдемо на крок 3, якщо ні – на крок 2. Наступним активним контейнером (з якого починається перевірка) обирається останній за номером."
   ]
  },
  {
   "cell_type": "code",
   "execution_count": 27,
   "metadata": {},
   "outputs": [],
   "source": [
    "def bfa(weights, container_capacity, sort=False):\n",
    "    if sort:\n",
    "        weights = sorted(weights, reverse=True)\n",
    "        \n",
    "    containers = [0]\n",
    "    p = 0\n",
    "    counter = 0\n",
    "    for weight in weights:\n",
    "        counter += 1\n",
    "        if containers[p] + weight <= container_capacity:\n",
    "            containers[p] += weight\n",
    "        else:\n",
    "            max_pos = -1\n",
    "            max_filling = 0\n",
    "            for i in range(p):\n",
    "                counter += 1\n",
    "                if containers[i] + weight <= container_capacity and \\\n",
    "                                containers[i] > max_filling:\n",
    "                    max_pos = i\n",
    "                    max_filling = containers[i]\n",
    "            \n",
    "            counter += 1\n",
    "            if max_pos != -1:\n",
    "                containers[max_pos] += weight\n",
    "            else:\n",
    "                containers.append(weight)\n",
    "                p += 1\n",
    "                \n",
    "    return containers, counter"
   ]
  },
  {
   "cell_type": "markdown",
   "metadata": {},
   "source": [
    "Обчислимо мінімально можливу кількість контейнерів для 20-ти вантажів («Додаток А»), за допомогою (2.2) – 3 значення окремо для 1-го, 2-го та 3-го рядка варіанту та для 60 вантажів для 1-3 рядка варіанту сумісно. "
   ]
  },
  {
   "cell_type": "code",
   "execution_count": 28,
   "metadata": {},
   "outputs": [
    {
     "name": "stdout",
     "output_type": "stream",
     "text": [
      "for row1 M=13.05\nfor row2 M=10.96\nfor row3 M=10.9\ntotal M=34.91\n"
     ]
    }
   ],
   "source": [
    "import numpy as np\n",
    "\n",
    "print('for row1 M={}'.format(np.sum(np.array(w1)) / container_capacity))\n",
    "print('for row2 M={}'.format(np.sum(np.array(w2)) / container_capacity))\n",
    "print('for row3 M={}'.format(np.sum(np.array(w3)) / container_capacity))\n",
    "print('total M={}'.format(np.sum(np.array(weights)) / container_capacity))"
   ]
  },
  {
   "cell_type": "markdown",
   "metadata": {},
   "source": [
    "Обчислимо кількість контейнерів та обчислювальну складність для 20-ти вантажів, за допомогою алгоритмів NFA, FFA, WFA, BFA без впорядкування окремо для 1-го, 2-го та 3-го рядка варіанту (12 значень)."
   ]
  },
  {
   "cell_type": "code",
   "execution_count": 29,
   "metadata": {},
   "outputs": [
    {
     "name": "stdout",
     "output_type": "stream",
     "text": [
      "NFA\nrow 1: 16 containers 20 comparisons\nrow 2: 15 containers 20 comparisons\nrow 3: 17 containers 20 comparisons\n\nFFA\nrow 1: 16 containers 149 comparisons\nrow 2: 12 containers 106 comparisons\nrow 3: 15 containers 132 comparisons\n\nWFA\nrow 1: 16 containers 150 comparisons\nrow 2: 12 containers 117 comparisons\nrow 3: 15 containers 150 comparisons\n\nBFA\nrow 1: 16 containers 150 comparisons\nrow 2: 12 containers 117 comparisons\nrow 3: 15 containers 150 comparisons\n\n"
     ]
    }
   ],
   "source": [
    "def runner(func, name, sort=False):\n",
    "    print(name)\n",
    "    for i in range(3):\n",
    "        containers, comparisons = func(rows['row%d' % (i + 1)], container_capacity, sort)\n",
    "        print('row {}: {} containers {} comparisons'\n",
    "              .format(i + 1, len(containers), comparisons))\n",
    "        \n",
    "    print()\n",
    "        \n",
    "\n",
    "runner(nfa, 'NFA')\n",
    "runner(ffa, 'FFA')\n",
    "runner(wfa, 'WFA')\n",
    "runner(bfa, 'BFA')"
   ]
  },
  {
   "cell_type": "markdown",
   "metadata": {},
   "source": [
    "Обчислимо кількість контейнерів та обчислювальну складність для 20-ти вантажів, за допомогою алгоритмів NFA, FFA, WFA, BFA з впорядкуванням окремо для 1-го, 2-го та 3-го рядка варіанту (12 значень)."
   ]
  },
  {
   "cell_type": "code",
   "execution_count": 30,
   "metadata": {},
   "outputs": [
    {
     "name": "stdout",
     "output_type": "stream",
     "text": [
      "NFA\nrow 1: 16 containers 20 comparisons\nrow 2: 14 containers 20 comparisons\nrow 3: 15 containers 20 comparisons\n\nFFA\nrow 1: 15 containers 160 comparisons\nrow 2: 12 containers 142 comparisons\nrow 3: 13 containers 143 comparisons\n\nWFA\nrow 1: 15 containers 170 comparisons\nrow 2: 12 containers 170 comparisons\nrow 3: 13 containers 176 comparisons\n\nBFA\nrow 1: 15 containers 170 comparisons\nrow 2: 12 containers 170 comparisons\nrow 3: 13 containers 176 comparisons\n\n"
     ]
    }
   ],
   "source": [
    "runner(nfa, 'NFA', sort=True)\n",
    "runner(ffa, 'FFA', sort=True)\n",
    "runner(wfa, 'WFA', sort=True)\n",
    "runner(bfa, 'BFA', sort=True)"
   ]
  },
  {
   "cell_type": "markdown",
   "metadata": {},
   "source": [
    "Обчислимо кількість контейнерів та обчислювальну складність для 60-ти вантажів, за допомогою алгоритмів NFA, FFA, WFA, BFA без впорядкування для 1-3 рядка варіанту сумісно (4 значення)."
   ]
  },
  {
   "cell_type": "code",
   "execution_count": 31,
   "metadata": {},
   "outputs": [
    {
     "name": "stdout",
     "output_type": "stream",
     "text": [
      "NFA\n48 containers 60 iterations\nFFA\n42 containers 1026 iterations\nWFA\n42 containers 1137 iterations\nBFA\n41 containers 1122 iterations\n"
     ]
    }
   ],
   "source": [
    "def final_runner(func, name, sort=False):\n",
    "    print(name)\n",
    "    containers, iterations = func(weights, container_capacity, sort)\n",
    "    print('{} containers {} iterations'.format(len(containers), iterations))\n",
    "    \n",
    "    \n",
    "final_runner(nfa, 'NFA')\n",
    "final_runner(ffa, 'FFA')\n",
    "final_runner(wfa, 'WFA')\n",
    "final_runner(bfa, 'BFA')"
   ]
  },
  {
   "cell_type": "markdown",
   "metadata": {},
   "source": [
    "Обчислимо кількість контейнерів та обчислювальну складність для 60-и вантажів, за допомогою алгоритмів NFA, FFA, WFA, BFA з впорядкуванням для 1-3 рядка варіанту сумісно (4 значення)."
   ]
  },
  {
   "cell_type": "code",
   "execution_count": 32,
   "metadata": {},
   "outputs": [
    {
     "name": "stdout",
     "output_type": "stream",
     "text": [
      "NFA\n46 containers 60 iterations\nFFA\n40 containers 1242 iterations\nWFA\n40 containers 1560 iterations\nBFA\n40 containers 1560 iterations\n"
     ]
    }
   ],
   "source": [
    "final_runner(nfa, 'NFA', sort=True)\n",
    "final_runner(ffa, 'FFA', sort=True)\n",
    "final_runner(wfa, 'WFA', sort=True)\n",
    "final_runner(bfa, 'BFA', sort=True)"
   ]
  },
  {
   "cell_type": "code",
   "execution_count": 33,
   "metadata": {},
   "outputs": [],
   "source": []
  },
  {
   "cell_type": "code",
   "execution_count": null,
   "metadata": {},
   "outputs": [],
   "source": []
  }
 ],
 "metadata": {
  "kernelspec": {
   "display_name": "Python 2",
   "language": "python",
   "name": "python2"
  },
  "language_info": {
   "codemirror_mode": {
    "name": "ipython",
    "version": 2
   },
   "file_extension": ".py",
   "mimetype": "text/x-python",
   "name": "python",
   "nbconvert_exporter": "python",
   "pygments_lexer": "ipython2",
   "version": "2.7.6"
  }
 },
 "nbformat": 4,
 "nbformat_minor": 0
}
